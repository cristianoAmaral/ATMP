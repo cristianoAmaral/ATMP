{
 "cells": [
  {
   "attachments": {},
   "cell_type": "markdown",
   "metadata": {},
   "source": [
    "Exemplo 01"
   ]
  },
  {
   "cell_type": "code",
   "execution_count": 9,
   "metadata": {},
   "outputs": [
    {
     "name": "stdout",
     "output_type": "stream",
     "text": [
      "Enter you password\n"
     ]
    },
    {
     "ename": "NameError",
     "evalue": "name 'typedPassword' is not defined",
     "output_type": "error",
     "traceback": [
      "\u001b[1;31m---------------------------------------------------------------------------\u001b[0m",
      "\u001b[1;31mNameError\u001b[0m                                 Traceback (most recent call last)",
      "Cell \u001b[1;32mIn[9], line 4\u001b[0m\n\u001b[0;32m      2\u001b[0m secretPassWord \u001b[39m=\u001b[39m passwordFile\u001b[39m.\u001b[39mread()\n\u001b[0;32m      3\u001b[0m \u001b[39mprint\u001b[39m(\u001b[39m'\u001b[39m\u001b[39mEnter you password\u001b[39m\u001b[39m'\u001b[39m)\n\u001b[1;32m----> 4\u001b[0m typedPassword \u001b[39m==\u001b[39m \u001b[39minput\u001b[39m()\n\u001b[0;32m      5\u001b[0m \u001b[39mif\u001b[39;00m typedPassword \u001b[39m==\u001b[39m secretPassWord:\n\u001b[0;32m      6\u001b[0m     \u001b[39mprint\u001b[39m(\u001b[39m'\u001b[39m\u001b[39mAccess Granted\u001b[39m\u001b[39m'\u001b[39m)\n",
      "\u001b[1;31mNameError\u001b[0m: name 'typedPassword' is not defined"
     ]
    }
   ],
   "source": [
    "passwordFile = open('secretPasswordFile.txt')\n",
    "secretPassWord = passwordFile.read()\n",
    "print('Enter you password')\n",
    "typedPassword == input()\n",
    "if typedPassword == secretPassWord:\n",
    "    print('Access Granted')\n",
    "    if typedPassword == '12345':\n",
    "        print(\"That password is one that an idiot puts on their luggage\")\n",
    "else:\n",
    "    print('Access denied')\n"
   ]
  }
 ],
 "metadata": {
  "kernelspec": {
   "display_name": "Python 3",
   "language": "python",
   "name": "python3"
  },
  "language_info": {
   "codemirror_mode": {
    "name": "ipython",
    "version": 3
   },
   "file_extension": ".py",
   "mimetype": "text/x-python",
   "name": "python",
   "nbconvert_exporter": "python",
   "pygments_lexer": "ipython3",
   "version": "3.11.0 (main, Oct 24 2022, 18:26:48) [MSC v.1933 64 bit (AMD64)]"
  },
  "orig_nbformat": 4,
  "vscode": {
   "interpreter": {
    "hash": "c261aea317cc0286b3b3261fbba9abdec21eaa57589985bb7a274bf54d6cc0a7"
   }
  }
 },
 "nbformat": 4,
 "nbformat_minor": 2
}
