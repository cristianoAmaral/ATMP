{
 "cells": [
  {
   "attachments": {},
   "cell_type": "markdown",
   "metadata": {},
   "source": [
    "# Unidade 1"
   ]
  },
  {
   "attachments": {},
   "cell_type": "markdown",
   "metadata": {},
   "source": [
    "### Primeiro Programa"
   ]
  },
  {
   "cell_type": "code",
   "execution_count": null,
   "metadata": {},
   "outputs": [],
   "source": [
    "print(\"Hello World!\")\n",
    "print(\"What is your name?\")\n",
    "myName = input()\n",
    "print(\"It is good to meet you \" + myName)\n",
    "print(\"the lenght of your name is:\")\n",
    "print(len(myName))\n",
    "print(\"What is your age?\")\n",
    "myAge = input()\n",
    "print('You will be ' + str(int(myAge) + 1) + ' in a year', )\n"
   ]
  },
  {
   "cell_type": "markdown",
   "metadata": {},
   "source": [
    "# Unidade 2"
   ]
  },
  {
   "attachments": {},
   "cell_type": "markdown",
   "metadata": {},
   "source": [
    "### Fluxograma"
   ]
  },
  {
   "cell_type": "code",
   "execution_count": 12,
   "metadata": {},
   "outputs": [
    {
     "name": "stdout",
     "output_type": "stream",
     "text": [
      "Esta chovendo?\n",
      "Digite a resposta:\n",
      "1 - Sim\n",
      "2 - Não\n",
      "\n",
      "Saia\n"
     ]
    }
   ],
   "source": [
    "print(\"Esta chovendo?\")\n",
    "print(\"Digite a resposta:\")\n",
    "print(\"1 - Sim\")\n",
    "print(\"2 - Não\")\n",
    "print(\"\")\n",
    "resposta = int(input())\n",
    "\n",
    "if (resposta == 1):\n",
    "    print(\"Vc tem guarda-chuva?\")\n",
    "    if (resposta == 1):\n",
    "        print(\"Espere um pouco!\")\n",
    "    else:\n",
    "        print(\"Saia\")  \n",
    "if (resposta == 2):\n",
    "    print(\"Saia\")\n"
   ]
  },
  {
   "attachments": {},
   "cell_type": "markdown",
   "metadata": {},
   "source": [
    "### Valores booleanos"
   ]
  },
  {
   "cell_type": "code",
   "execution_count": 29,
   "metadata": {},
   "outputs": [
    {
     "data": {
      "text/plain": [
       "False"
      ]
     },
     "execution_count": 29,
     "metadata": {},
     "output_type": "execute_result"
    }
   ],
   "source": [
    "spam = True\n",
    "spam\n",
    "# true\n",
    "#True = 2 +2\n",
    "\n",
    "42 == 42\n",
    "42 == 99\n",
    "2 != 3\n",
    "2 != 2\n",
    "\n",
    "'hello' == 'hello'\n",
    "'hello' == 'Hello'\n",
    "'dog' != 'cat'\n",
    "True == True\n",
    "42 == 42.0\n",
    "42 == '42'"
   ]
  },
  {
   "attachments": {},
   "cell_type": "markdown",
   "metadata": {},
   "source": [
    "### Exemplo de bloco de Código"
   ]
  },
  {
   "attachments": {},
   "cell_type": "markdown",
   "metadata": {},
   "source": [
    "#### Exemplo 1"
   ]
  },
  {
   "cell_type": "code",
   "execution_count": 37,
   "metadata": {},
   "outputs": [
    {
     "name": "stdout",
     "output_type": "stream",
     "text": [
      "Hello Mary\n",
      "Acess granted\n"
     ]
    }
   ],
   "source": [
    "nome = 'Mary'\n",
    "senha = 'notes'\n",
    "\n",
    "if nome == 'Mary':\n",
    "    print('Hello Mary')\n",
    "if senha == 'notes':\n",
    "    print('Acess granted')\n",
    "else:\n",
    "    print('Acess Denied')"
   ]
  },
  {
   "attachments": {},
   "cell_type": "markdown",
   "metadata": {},
   "source": [
    "#### Exemplo 2"
   ]
  },
  {
   "cell_type": "code",
   "execution_count": 48,
   "metadata": {},
   "outputs": [
    {
     "name": "stdout",
     "output_type": "stream",
     "text": [
      "Voce é uma Velha!\n"
     ]
    }
   ],
   "source": [
    "nome = \"Alices\"\n",
    "age = 120\n",
    "\n",
    "\n",
    "if nome == 'Alice':\n",
    "    print(\"Hi Alice\")\n",
    "elif age < 12:\n",
    "    print('Você não pode entrar!' + nome)\n",
    "elif age > 2000:\n",
    "    print('Você é um vampiro importal')\n",
    "elif age > 100:\n",
    "    print('Voce é uma Velha!')\n"
   ]
  }
 ],
 "metadata": {
  "kernelspec": {
   "display_name": "Python 3",
   "language": "python",
   "name": "python3"
  },
  "language_info": {
   "codemirror_mode": {
    "name": "ipython",
    "version": 3
   },
   "file_extension": ".py",
   "mimetype": "text/x-python",
   "name": "python",
   "nbconvert_exporter": "python",
   "pygments_lexer": "ipython3",
   "version": "3.11.0"
  },
  "orig_nbformat": 4,
  "vscode": {
   "interpreter": {
    "hash": "c261aea317cc0286b3b3261fbba9abdec21eaa57589985bb7a274bf54d6cc0a7"
   }
  }
 },
 "nbformat": 4,
 "nbformat_minor": 2
}
